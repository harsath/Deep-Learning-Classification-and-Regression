{
 "cells": [
  {
   "cell_type": "markdown",
   "metadata": {},
   "source": [
    "<table>\n",
    "<thead>\n",
    "<tr>\n",
    "<th>Column Name</th>\n",
    "<th>Type</th>\n",
    "<th>Description</th>\n",
    "</tr>\n",
    "</thead>\n",
    "<tbody>\n",
    "<tr>\n",
    "<td>age</td>\n",
    "<td>Continuous</td>\n",
    "<td>The age of the individual</td>\n",
    "</tr>\n",
    "<tr>\n",
    "<td>workclass</td>\n",
    "<td>Categorical</td>\n",
    "<td>The type of employer the  individual has (government,  military, private, etc.).</td>\n",
    "</tr>\n",
    "<tr>\n",
    "<td>fnlwgt</td>\n",
    "<td>Continuous</td>\n",
    "<td>The number of people the census  takers believe that observation  represents (sample weight). This  variable will not be used.</td>\n",
    "</tr>\n",
    "<tr>\n",
    "<td>education</td>\n",
    "<td>Categorical</td>\n",
    "<td>The highest level of education  achieved for that individual.</td>\n",
    "</tr>\n",
    "<tr>\n",
    "<td>education_num</td>\n",
    "<td>Continuous</td>\n",
    "<td>The highest level of education in  numerical form.</td>\n",
    "</tr>\n",
    "<tr>\n",
    "<td>marital_status</td>\n",
    "<td>Categorical</td>\n",
    "<td>Marital status of the individual.</td>\n",
    "</tr>\n",
    "<tr>\n",
    "<td>occupation</td>\n",
    "<td>Categorical</td>\n",
    "<td>The occupation of the individual.</td>\n",
    "</tr>\n",
    "<tr>\n",
    "<td>relationship</td>\n",
    "<td>Categorical</td>\n",
    "<td>Wife, Own-child, Husband,  Not-in-family, Other-relative,  Unmarried.</td>\n",
    "</tr>\n",
    "<tr>\n",
    "<td>race</td>\n",
    "<td>Categorical</td>\n",
    "<td>White, Asian-Pac-Islander,  Amer-Indian-Eskimo, Other, Black.</td>\n",
    "</tr>\n",
    "<tr>\n",
    "<td>gender</td>\n",
    "<td>Categorical</td>\n",
    "<td>Female, Male.</td>\n",
    "</tr>\n",
    "<tr>\n",
    "<td>capital_gain</td>\n",
    "<td>Continuous</td>\n",
    "<td>Capital gains recorded.</td>\n",
    "</tr>\n",
    "<tr>\n",
    "<td>capital_loss</td>\n",
    "<td>Continuous</td>\n",
    "<td>Capital Losses recorded.</td>\n",
    "</tr>\n",
    "<tr>\n",
    "<td>hours_per_week</td>\n",
    "<td>Continuous</td>\n",
    "<td>Hours worked per week.</td>\n",
    "</tr>\n",
    "<tr>\n",
    "<td>native_country</td>\n",
    "<td>Categorical</td>\n",
    "<td>Country of origin of the  individual.</td>\n",
    "</tr>\n",
    "<tr>\n",
    "<td>income</td>\n",
    "<td>Categorical</td>\n",
    "<td>\"&gt;50K\" or \"&lt;=50K\", meaning  whether the person makes more  than \\$50,000 annually.</td>\n",
    "</tr>\n",
    "</tbody>\n",
    "</table>"
   ]
  },
  {
   "cell_type": "code",
   "execution_count": 1,
   "metadata": {},
   "outputs": [],
   "source": [
    "import pandas as pd\n",
    "import numpy as np\n",
    "import matplotlib.pyplot as plt\n",
    "import seaborn as sns\n",
    "import tensorflow as tf\n",
    "%matplotlib inline"
   ]
  },
  {
   "cell_type": "code",
   "execution_count": 2,
   "metadata": {},
   "outputs": [],
   "source": [
    "census = pd.read_csv('census_data.csv')"
   ]
  },
  {
   "cell_type": "code",
   "execution_count": 3,
   "metadata": {},
   "outputs": [
    {
     "data": {
      "text/html": [
       "<div>\n",
       "<style scoped>\n",
       "    .dataframe tbody tr th:only-of-type {\n",
       "        vertical-align: middle;\n",
       "    }\n",
       "\n",
       "    .dataframe tbody tr th {\n",
       "        vertical-align: top;\n",
       "    }\n",
       "\n",
       "    .dataframe thead th {\n",
       "        text-align: right;\n",
       "    }\n",
       "</style>\n",
       "<table border=\"1\" class=\"dataframe\">\n",
       "  <thead>\n",
       "    <tr style=\"text-align: right;\">\n",
       "      <th></th>\n",
       "      <th>age</th>\n",
       "      <th>workclass</th>\n",
       "      <th>education</th>\n",
       "      <th>education_num</th>\n",
       "      <th>marital_status</th>\n",
       "      <th>occupation</th>\n",
       "      <th>relationship</th>\n",
       "      <th>race</th>\n",
       "      <th>gender</th>\n",
       "      <th>capital_gain</th>\n",
       "      <th>capital_loss</th>\n",
       "      <th>hours_per_week</th>\n",
       "      <th>native_country</th>\n",
       "      <th>income_bracket</th>\n",
       "    </tr>\n",
       "  </thead>\n",
       "  <tbody>\n",
       "    <tr>\n",
       "      <th>0</th>\n",
       "      <td>39</td>\n",
       "      <td>State-gov</td>\n",
       "      <td>Bachelors</td>\n",
       "      <td>13</td>\n",
       "      <td>Never-married</td>\n",
       "      <td>Adm-clerical</td>\n",
       "      <td>Not-in-family</td>\n",
       "      <td>White</td>\n",
       "      <td>Male</td>\n",
       "      <td>2174</td>\n",
       "      <td>0</td>\n",
       "      <td>40</td>\n",
       "      <td>United-States</td>\n",
       "      <td>&lt;=50K</td>\n",
       "    </tr>\n",
       "    <tr>\n",
       "      <th>1</th>\n",
       "      <td>50</td>\n",
       "      <td>Self-emp-not-inc</td>\n",
       "      <td>Bachelors</td>\n",
       "      <td>13</td>\n",
       "      <td>Married-civ-spouse</td>\n",
       "      <td>Exec-managerial</td>\n",
       "      <td>Husband</td>\n",
       "      <td>White</td>\n",
       "      <td>Male</td>\n",
       "      <td>0</td>\n",
       "      <td>0</td>\n",
       "      <td>13</td>\n",
       "      <td>United-States</td>\n",
       "      <td>&lt;=50K</td>\n",
       "    </tr>\n",
       "    <tr>\n",
       "      <th>2</th>\n",
       "      <td>38</td>\n",
       "      <td>Private</td>\n",
       "      <td>HS-grad</td>\n",
       "      <td>9</td>\n",
       "      <td>Divorced</td>\n",
       "      <td>Handlers-cleaners</td>\n",
       "      <td>Not-in-family</td>\n",
       "      <td>White</td>\n",
       "      <td>Male</td>\n",
       "      <td>0</td>\n",
       "      <td>0</td>\n",
       "      <td>40</td>\n",
       "      <td>United-States</td>\n",
       "      <td>&lt;=50K</td>\n",
       "    </tr>\n",
       "    <tr>\n",
       "      <th>3</th>\n",
       "      <td>53</td>\n",
       "      <td>Private</td>\n",
       "      <td>11th</td>\n",
       "      <td>7</td>\n",
       "      <td>Married-civ-spouse</td>\n",
       "      <td>Handlers-cleaners</td>\n",
       "      <td>Husband</td>\n",
       "      <td>Black</td>\n",
       "      <td>Male</td>\n",
       "      <td>0</td>\n",
       "      <td>0</td>\n",
       "      <td>40</td>\n",
       "      <td>United-States</td>\n",
       "      <td>&lt;=50K</td>\n",
       "    </tr>\n",
       "    <tr>\n",
       "      <th>4</th>\n",
       "      <td>28</td>\n",
       "      <td>Private</td>\n",
       "      <td>Bachelors</td>\n",
       "      <td>13</td>\n",
       "      <td>Married-civ-spouse</td>\n",
       "      <td>Prof-specialty</td>\n",
       "      <td>Wife</td>\n",
       "      <td>Black</td>\n",
       "      <td>Female</td>\n",
       "      <td>0</td>\n",
       "      <td>0</td>\n",
       "      <td>40</td>\n",
       "      <td>Cuba</td>\n",
       "      <td>&lt;=50K</td>\n",
       "    </tr>\n",
       "  </tbody>\n",
       "</table>\n",
       "</div>"
      ],
      "text/plain": [
       "   age          workclass   education  education_num       marital_status  \\\n",
       "0   39          State-gov   Bachelors             13        Never-married   \n",
       "1   50   Self-emp-not-inc   Bachelors             13   Married-civ-spouse   \n",
       "2   38            Private     HS-grad              9             Divorced   \n",
       "3   53            Private        11th              7   Married-civ-spouse   \n",
       "4   28            Private   Bachelors             13   Married-civ-spouse   \n",
       "\n",
       "           occupation    relationship    race   gender  capital_gain  \\\n",
       "0        Adm-clerical   Not-in-family   White     Male          2174   \n",
       "1     Exec-managerial         Husband   White     Male             0   \n",
       "2   Handlers-cleaners   Not-in-family   White     Male             0   \n",
       "3   Handlers-cleaners         Husband   Black     Male             0   \n",
       "4      Prof-specialty            Wife   Black   Female             0   \n",
       "\n",
       "   capital_loss  hours_per_week  native_country income_bracket  \n",
       "0             0              40   United-States          <=50K  \n",
       "1             0              13   United-States          <=50K  \n",
       "2             0              40   United-States          <=50K  \n",
       "3             0              40   United-States          <=50K  \n",
       "4             0              40            Cuba          <=50K  "
      ]
     },
     "execution_count": 3,
     "metadata": {},
     "output_type": "execute_result"
    }
   ],
   "source": [
    "census.head()"
   ]
  },
  {
   "cell_type": "code",
   "execution_count": 124,
   "metadata": {},
   "outputs": [
    {
     "data": {
      "text/plain": [
       "array([0, 1])"
      ]
     },
     "execution_count": 124,
     "metadata": {},
     "output_type": "execute_result"
    }
   ],
   "source": [
    "census['income_bracket'].unique()"
   ]
  },
  {
   "cell_type": "code",
   "execution_count": 130,
   "metadata": {},
   "outputs": [
    {
     "data": {
      "text/plain": [
       "<matplotlib.axes._subplots.AxesSubplot at 0x7effc8ddaa20>"
      ]
     },
     "execution_count": 130,
     "metadata": {},
     "output_type": "execute_result"
    },
    {
     "data": {
      "image/png": "[encoded data removed]",
      "text/plain": [
       "<Figure size 432x288 with 1 Axes>"
      ]
     },
     "metadata": {},
     "output_type": "display_data"
    }
   ],
   "source": [
    "sns.barplot(y='workclass',x='age',data=census)"
   ]
  },
  {
   "cell_type": "code",
   "execution_count": 140,
   "metadata": {},
   "outputs": [
    {
     "data": {
      "text/plain": [
       "<matplotlib.axes._subplots.AxesSubplot at 0x7effc8abee48>"
      ]
     },
     "execution_count": 140,
     "metadata": {},
     "output_type": "execute_result"
    },
    {
     "data": {
      "image/png": "[encoded data removed]",
      "text/plain": [
       "<Figure size 842.4x595.44 with 1 Axes>"
      ]
     },
     "metadata": {},
     "output_type": "display_data"
    }
   ],
   "source": [
    "a4_dims = (11.7, 8.27)\n",
    "fig, ax = plt.subplots(figsize=a4_dims)\n",
    "sns.barplot(y='native_country',x='age',data=census,palette='muted')"
   ]
  },
  {
   "cell_type": "code",
   "execution_count": 5,
   "metadata": {},
   "outputs": [],
   "source": [
    "def lable_encoder(lable):\n",
    "    if lable == ' <=50K':\n",
    "        return 0\n",
    "    else:\n",
    "        return 1"
   ]
  },
  {
   "cell_type": "code",
   "execution_count": 141,
   "metadata": {},
   "outputs": [],
   "source": [
    "census['income_bracket'] = census['income_bracket'].apply(lable_encoder)"
   ]
  },
  {
   "cell_type": "code",
   "execution_count": 147,
   "metadata": {},
   "outputs": [
    {
     "data": {
      "text/plain": [
       "<matplotlib.axes._subplots.AxesSubplot at 0x7effc950a6d8>"
      ]
     },
     "execution_count": 147,
     "metadata": {},
     "output_type": "execute_result"
    },
    {
     "data": {
      "image/png": "[encoded data removed]",
      "text/plain": [
       "<Figure size 432x288 with 1 Axes>"
      ]
     },
     "metadata": {},
     "output_type": "display_data"
    }
   ],
   "source": [
    "sns.barplot(y='income_bracket',x='gender',data=census)"
   ]
  },
  {
   "cell_type": "code",
   "execution_count": 8,
   "metadata": {},
   "outputs": [
    {
     "data": {
      "text/plain": [
       "Index(['age', 'workclass', 'education', 'education_num', 'marital_status',\n",
       "       'occupation', 'relationship', 'race', 'gender', 'capital_gain',\n",
       "       'capital_loss', 'hours_per_week', 'native_country', 'income_bracket'],\n",
       "      dtype='object')"
      ]
     },
     "execution_count": 8,
     "metadata": {},
     "output_type": "execute_result"
    }
   ],
   "source": [
    "census.columns"
   ]
  },
  {
   "cell_type": "code",
   "execution_count": 9,
   "metadata": {},
   "outputs": [],
   "source": [
    "gender = tf.feature_column.categorical_column_with_vocabulary_list(\"gender\", [\"Female\", \"Male\"])\n",
    "occupation = tf.feature_column.categorical_column_with_hash_bucket(\"occupation\", hash_bucket_size=1000)\n",
    "marital_status = tf.feature_column.categorical_column_with_hash_bucket(\"marital_status\", hash_bucket_size=1000)\n",
    "relationship = tf.feature_column.categorical_column_with_hash_bucket(\"relationship\", hash_bucket_size=1000)\n",
    "education = tf.feature_column.categorical_column_with_hash_bucket(\"education\", hash_bucket_size=1000)\n",
    "workclass = tf.feature_column.categorical_column_with_hash_bucket(\"workclass\", hash_bucket_size=1000)\n",
    "native_country = tf.feature_column.categorical_column_with_hash_bucket(\"native_country\", hash_bucket_size=1000)"
   ]
  },
  {
   "cell_type": "code",
   "execution_count": 10,
   "metadata": {},
   "outputs": [],
   "source": [
    "age = tf.feature_column.numeric_column(\"age\")\n",
    "education_num = tf.feature_column.numeric_column(\"education_num\")\n",
    "capital_gain = tf.feature_column.numeric_column(\"capital_gain\")\n",
    "capital_loss = tf.feature_column.numeric_column(\"capital_loss\")\n",
    "hours_per_week = tf.feature_column.numeric_column(\"hours_per_week\")"
   ]
  },
  {
   "cell_type": "code",
   "execution_count": 11,
   "metadata": {},
   "outputs": [],
   "source": [
    "feat_cols = [gender,occupation,marital_status,relationship,education,workclass,native_country,\n",
    "            age,education_num,capital_gain,capital_loss,hours_per_week]"
   ]
  },
  {
   "cell_type": "code",
   "execution_count": 12,
   "metadata": {},
   "outputs": [
    {
     "name": "stdout",
     "output_type": "stream",
     "text": [
      "INFO:tensorflow:Using default config.\n",
      "WARNING:tensorflow:Using temporary folder as model directory: /tmp/tmpjffiy53o\n",
      "INFO:tensorflow:Using config: {'_model_dir': '/tmp/tmpjffiy53o', '_tf_random_seed': None, '_save_summary_steps': 100, '_save_checkpoints_steps': None, '_save_checkpoints_secs': 600, '_session_config': None, '_keep_checkpoint_max': 5, '_keep_checkpoint_every_n_hours': 10000, '_log_step_count_steps': 100, '_train_distribute': None, '_service': None, '_cluster_spec': <tensorflow.python.training.server_lib.ClusterSpec object at 0x7f0001d78dd8>, '_task_type': 'worker', '_task_id': 0, '_global_id_in_cluster': 0, '_master': '', '_evaluation_master': '', '_is_chief': True, '_num_ps_replicas': 0, '_num_worker_replicas': 1}\n"
     ]
    }
   ],
   "source": [
    "model = tf.estimator.LinearClassifier(feature_columns=feat_cols,n_classes=2)"
   ]
  },
  {
   "cell_type": "code",
   "execution_count": 14,
   "metadata": {},
   "outputs": [],
   "source": [
    "from sklearn.cross_validation import train_test_split\n",
    "x_data = census.drop('income_bracket',axis=1)\n",
    "y_lable = census['income_bracket']"
   ]
  },
  {
   "cell_type": "code",
   "execution_count": 16,
   "metadata": {},
   "outputs": [],
   "source": [
    "X_train, X_test, y_train, y_test = train_test_split(x_data, y_lable, test_size=0.2, random_state=148)"
   ]
  },
  {
   "cell_type": "code",
   "execution_count": 17,
   "metadata": {},
   "outputs": [],
   "source": [
    "input_func = tf.estimator.inputs.pandas_input_fn(x=X_train,y=y_train,batch_size=128, num_epochs=10000, shuffle=True)"
   ]
  },
  {
   "cell_type": "code",
   "execution_count": 18,
   "metadata": {},
   "outputs": [
    {
     "name": "stdout",
     "output_type": "stream",
     "text": [
      "INFO:tensorflow:Calling model_fn.\n",
      "INFO:tensorflow:Done calling model_fn.\n",
      "INFO:tensorflow:Create CheckpointSaverHook.\n",
      "INFO:tensorflow:Graph was finalized.\n",
      "INFO:tensorflow:Running local_init_op.\n",
      "INFO:tensorflow:Done running local_init_op.\n",
      "INFO:tensorflow:Saving checkpoints for 1 into /tmp/tmpjffiy53o/model.ckpt.\n",
      "INFO:tensorflow:loss = 88.722855, step = 1\n",
      "INFO:tensorflow:global_step/sec: 101.691\n",
      "INFO:tensorflow:loss = 125.97421, step = 101 (0.985 sec)\n",
      "INFO:tensorflow:global_step/sec: 173.511\n",
      "INFO:tensorflow:loss = 468.13934, step = 201 (0.576 sec)\n",
      "INFO:tensorflow:global_step/sec: 172.732\n",
      "INFO:tensorflow:loss = 240.77344, step = 301 (0.580 sec)\n",
      "INFO:tensorflow:global_step/sec: 179.386\n",
      "INFO:tensorflow:loss = 130.08026, step = 401 (0.557 sec)\n",
      "INFO:tensorflow:global_step/sec: 183.4\n",
      "INFO:tensorflow:loss = 42.14197, step = 501 (0.547 sec)\n",
      "INFO:tensorflow:global_step/sec: 168.207\n",
      "INFO:tensorflow:loss = 100.67763, step = 601 (0.592 sec)\n",
      "INFO:tensorflow:global_step/sec: 181.144\n",
      "INFO:tensorflow:loss = 54.681774, step = 701 (0.552 sec)\n",
      "INFO:tensorflow:global_step/sec: 186.448\n",
      "INFO:tensorflow:loss = 40.593674, step = 801 (0.537 sec)\n",
      "INFO:tensorflow:global_step/sec: 158.061\n",
      "INFO:tensorflow:loss = 81.58534, step = 901 (0.633 sec)\n",
      "INFO:tensorflow:global_step/sec: 183.384\n",
      "INFO:tensorflow:loss = 164.62927, step = 1001 (0.545 sec)\n",
      "INFO:tensorflow:global_step/sec: 149.983\n",
      "INFO:tensorflow:loss = 35.045643, step = 1101 (0.669 sec)\n",
      "INFO:tensorflow:global_step/sec: 130.299\n",
      "INFO:tensorflow:loss = 93.76152, step = 1201 (0.768 sec)\n",
      "INFO:tensorflow:global_step/sec: 124.347\n",
      "INFO:tensorflow:loss = 44.374275, step = 1301 (0.804 sec)\n",
      "INFO:tensorflow:global_step/sec: 123.768\n",
      "INFO:tensorflow:loss = 61.862064, step = 1401 (0.810 sec)\n",
      "INFO:tensorflow:global_step/sec: 129.715\n",
      "INFO:tensorflow:loss = 128.17865, step = 1501 (0.769 sec)\n",
      "INFO:tensorflow:global_step/sec: 131.378\n",
      "INFO:tensorflow:loss = 208.78046, step = 1601 (0.760 sec)\n",
      "INFO:tensorflow:global_step/sec: 129.43\n",
      "INFO:tensorflow:loss = 50.10263, step = 1701 (0.773 sec)\n",
      "INFO:tensorflow:global_step/sec: 130.728\n",
      "INFO:tensorflow:loss = 169.82526, step = 1801 (0.764 sec)\n",
      "INFO:tensorflow:global_step/sec: 130.603\n",
      "INFO:tensorflow:loss = 96.86581, step = 1901 (0.766 sec)\n",
      "INFO:tensorflow:global_step/sec: 131.545\n",
      "INFO:tensorflow:loss = 260.28558, step = 2001 (0.761 sec)\n",
      "INFO:tensorflow:global_step/sec: 127.858\n",
      "INFO:tensorflow:loss = 135.19421, step = 2101 (0.780 sec)\n",
      "INFO:tensorflow:global_step/sec: 132.999\n",
      "INFO:tensorflow:loss = 619.4337, step = 2201 (0.753 sec)\n",
      "INFO:tensorflow:global_step/sec: 130.229\n",
      "INFO:tensorflow:loss = 68.20096, step = 2301 (0.771 sec)\n",
      "INFO:tensorflow:global_step/sec: 130.694\n",
      "INFO:tensorflow:loss = 58.501465, step = 2401 (0.765 sec)\n",
      "INFO:tensorflow:global_step/sec: 127.642\n",
      "INFO:tensorflow:loss = 75.48324, step = 2501 (0.782 sec)\n",
      "INFO:tensorflow:global_step/sec: 128.577\n",
      "INFO:tensorflow:loss = 47.757732, step = 2601 (0.776 sec)\n",
      "INFO:tensorflow:global_step/sec: 127.465\n",
      "INFO:tensorflow:loss = 222.17609, step = 2701 (0.785 sec)\n",
      "INFO:tensorflow:global_step/sec: 128.318\n",
      "INFO:tensorflow:loss = 39.202744, step = 2801 (0.781 sec)\n",
      "INFO:tensorflow:global_step/sec: 130.358\n",
      "INFO:tensorflow:loss = 87.6173, step = 2901 (0.764 sec)\n",
      "INFO:tensorflow:global_step/sec: 127.473\n",
      "INFO:tensorflow:loss = 55.266495, step = 3001 (0.785 sec)\n",
      "INFO:tensorflow:global_step/sec: 129.979\n",
      "INFO:tensorflow:loss = 224.05489, step = 3101 (0.769 sec)\n",
      "INFO:tensorflow:global_step/sec: 132.39\n",
      "INFO:tensorflow:loss = 74.75351, step = 3201 (0.756 sec)\n",
      "INFO:tensorflow:global_step/sec: 130.967\n",
      "INFO:tensorflow:loss = 39.156788, step = 3301 (0.763 sec)\n",
      "INFO:tensorflow:global_step/sec: 130.091\n",
      "INFO:tensorflow:loss = 65.70044, step = 3401 (0.769 sec)\n",
      "INFO:tensorflow:global_step/sec: 127.94\n",
      "INFO:tensorflow:loss = 55.28513, step = 3501 (0.781 sec)\n",
      "INFO:tensorflow:global_step/sec: 129.935\n",
      "INFO:tensorflow:loss = 86.47666, step = 3601 (0.770 sec)\n",
      "INFO:tensorflow:global_step/sec: 132.362\n",
      "INFO:tensorflow:loss = 46.380325, step = 3701 (0.754 sec)\n",
      "INFO:tensorflow:global_step/sec: 127.825\n",
      "INFO:tensorflow:loss = 54.961334, step = 3801 (0.783 sec)\n",
      "INFO:tensorflow:global_step/sec: 129.325\n",
      "INFO:tensorflow:loss = 216.93364, step = 3901 (0.774 sec)\n",
      "INFO:tensorflow:global_step/sec: 125.863\n",
      "INFO:tensorflow:loss = 48.37654, step = 4001 (0.794 sec)\n",
      "INFO:tensorflow:global_step/sec: 132.558\n",
      "INFO:tensorflow:loss = 65.717926, step = 4101 (0.754 sec)\n",
      "INFO:tensorflow:global_step/sec: 131.109\n",
      "INFO:tensorflow:loss = 137.48253, step = 4201 (0.763 sec)\n",
      "INFO:tensorflow:global_step/sec: 130.466\n",
      "INFO:tensorflow:loss = 121.5674, step = 4301 (0.766 sec)\n",
      "INFO:tensorflow:global_step/sec: 133.184\n",
      "INFO:tensorflow:loss = 51.870224, step = 4401 (0.750 sec)\n",
      "INFO:tensorflow:global_step/sec: 131.383\n",
      "INFO:tensorflow:loss = 43.362354, step = 4501 (0.761 sec)\n",
      "INFO:tensorflow:global_step/sec: 129.693\n",
      "INFO:tensorflow:loss = 54.663296, step = 4601 (0.772 sec)\n",
      "INFO:tensorflow:global_step/sec: 132.705\n",
      "INFO:tensorflow:loss = 57.428185, step = 4701 (0.757 sec)\n",
      "INFO:tensorflow:global_step/sec: 128.999\n",
      "INFO:tensorflow:loss = 56.755043, step = 4801 (0.772 sec)\n",
      "INFO:tensorflow:global_step/sec: 132.282\n",
      "INFO:tensorflow:loss = 52.769653, step = 4901 (0.755 sec)\n",
      "INFO:tensorflow:global_step/sec: 128.349\n",
      "INFO:tensorflow:loss = 141.93935, step = 5001 (0.780 sec)\n",
      "INFO:tensorflow:global_step/sec: 133.904\n",
      "INFO:tensorflow:loss = 107.26613, step = 5101 (0.747 sec)\n",
      "INFO:tensorflow:global_step/sec: 127.757\n",
      "INFO:tensorflow:loss = 62.07016, step = 5201 (0.783 sec)\n",
      "INFO:tensorflow:global_step/sec: 131.42\n",
      "INFO:tensorflow:loss = 89.23584, step = 5301 (0.760 sec)\n",
      "INFO:tensorflow:global_step/sec: 128.661\n",
      "INFO:tensorflow:loss = 81.42114, step = 5401 (0.778 sec)\n",
      "INFO:tensorflow:global_step/sec: 131.645\n",
      "INFO:tensorflow:loss = 56.704933, step = 5501 (0.759 sec)\n",
      "INFO:tensorflow:global_step/sec: 130.813\n",
      "INFO:tensorflow:loss = 35.368042, step = 5601 (0.765 sec)\n",
      "INFO:tensorflow:global_step/sec: 131.611\n",
      "INFO:tensorflow:loss = 45.367546, step = 5701 (0.758 sec)\n",
      "INFO:tensorflow:global_step/sec: 129.304\n",
      "INFO:tensorflow:loss = 32.78244, step = 5801 (0.773 sec)\n",
      "INFO:tensorflow:global_step/sec: 131.564\n",
      "INFO:tensorflow:loss = 59.832542, step = 5901 (0.761 sec)\n",
      "INFO:tensorflow:global_step/sec: 131.617\n",
      "INFO:tensorflow:loss = 116.8499, step = 6001 (0.760 sec)\n",
      "INFO:tensorflow:global_step/sec: 129.211\n",
      "INFO:tensorflow:loss = 55.720543, step = 6101 (0.774 sec)\n",
      "INFO:tensorflow:global_step/sec: 131.285\n",
      "INFO:tensorflow:loss = 49.66797, step = 6201 (0.762 sec)\n",
      "INFO:tensorflow:global_step/sec: 129.581\n",
      "INFO:tensorflow:loss = 38.48718, step = 6301 (0.772 sec)\n",
      "INFO:tensorflow:global_step/sec: 130.365\n",
      "INFO:tensorflow:loss = 47.708416, step = 6401 (0.768 sec)\n",
      "INFO:tensorflow:global_step/sec: 131.336\n",
      "INFO:tensorflow:loss = 59.445644, step = 6501 (0.762 sec)\n",
      "INFO:tensorflow:global_step/sec: 132.564\n",
      "INFO:tensorflow:loss = 112.50932, step = 6601 (0.754 sec)\n",
      "INFO:tensorflow:global_step/sec: 127.221\n",
      "INFO:tensorflow:loss = 38.90326, step = 6701 (0.785 sec)\n",
      "INFO:tensorflow:global_step/sec: 150.261\n",
      "INFO:tensorflow:loss = 39.408974, step = 6801 (0.666 sec)\n",
      "INFO:tensorflow:global_step/sec: 131.189\n",
      "INFO:tensorflow:loss = 54.74128, step = 6901 (0.762 sec)\n",
      "INFO:tensorflow:global_step/sec: 132.213\n",
      "INFO:tensorflow:loss = 131.34952, step = 7001 (0.756 sec)\n",
      "INFO:tensorflow:global_step/sec: 130.098\n",
      "INFO:tensorflow:loss = 41.1537, step = 7101 (0.768 sec)\n",
      "INFO:tensorflow:global_step/sec: 130.367\n",
      "INFO:tensorflow:loss = 34.845413, step = 7201 (0.767 sec)\n",
      "INFO:tensorflow:global_step/sec: 128.166\n",
      "INFO:tensorflow:loss = 91.37864, step = 7301 (0.781 sec)\n",
      "INFO:tensorflow:global_step/sec: 128.985\n",
      "INFO:tensorflow:loss = 43.40625, step = 7401 (0.774 sec)\n",
      "INFO:tensorflow:global_step/sec: 149.73\n",
      "INFO:tensorflow:loss = 54.15413, step = 7501 (0.666 sec)\n",
      "INFO:tensorflow:global_step/sec: 137.579\n",
      "INFO:tensorflow:loss = 48.573643, step = 7601 (0.733 sec)\n",
      "INFO:tensorflow:global_step/sec: 138.468\n",
      "INFO:tensorflow:loss = 48.00601, step = 7701 (0.721 sec)\n",
      "INFO:tensorflow:global_step/sec: 145.099\n",
      "INFO:tensorflow:loss = 45.12002, step = 7801 (0.686 sec)\n",
      "INFO:tensorflow:global_step/sec: 133.977\n",
      "INFO:tensorflow:loss = 77.97836, step = 7901 (0.746 sec)\n",
      "INFO:tensorflow:global_step/sec: 138.217\n",
      "INFO:tensorflow:loss = 96.81305, step = 8001 (0.723 sec)\n"
     ]
    },
    {
     "name": "stdout",
     "output_type": "stream",
     "text": [
      "INFO:tensorflow:global_step/sec: 133.206\n",
      "INFO:tensorflow:loss = 37.027946, step = 8101 (0.752 sec)\n",
      "INFO:tensorflow:global_step/sec: 143.169\n",
      "INFO:tensorflow:loss = 57.53511, step = 8201 (0.698 sec)\n",
      "INFO:tensorflow:global_step/sec: 132.373\n",
      "INFO:tensorflow:loss = 28.538067, step = 8301 (0.755 sec)\n",
      "INFO:tensorflow:global_step/sec: 141.3\n",
      "INFO:tensorflow:loss = 41.93434, step = 8401 (0.706 sec)\n",
      "INFO:tensorflow:global_step/sec: 131.141\n",
      "INFO:tensorflow:loss = 46.8235, step = 8501 (0.762 sec)\n",
      "INFO:tensorflow:global_step/sec: 146.625\n",
      "INFO:tensorflow:loss = 46.507767, step = 8601 (0.683 sec)\n",
      "INFO:tensorflow:global_step/sec: 155.246\n",
      "INFO:tensorflow:loss = 34.94098, step = 8701 (0.644 sec)\n",
      "INFO:tensorflow:global_step/sec: 144.818\n",
      "INFO:tensorflow:loss = 77.08538, step = 8801 (0.691 sec)\n",
      "INFO:tensorflow:global_step/sec: 146.946\n",
      "INFO:tensorflow:loss = 45.980637, step = 8901 (0.682 sec)\n",
      "INFO:tensorflow:global_step/sec: 132.845\n",
      "INFO:tensorflow:loss = 52.892807, step = 9001 (0.750 sec)\n",
      "INFO:tensorflow:global_step/sec: 157.878\n",
      "INFO:tensorflow:loss = 115.25628, step = 9101 (0.633 sec)\n",
      "INFO:tensorflow:global_step/sec: 136.9\n",
      "INFO:tensorflow:loss = 51.350163, step = 9201 (0.733 sec)\n",
      "INFO:tensorflow:global_step/sec: 131.382\n",
      "INFO:tensorflow:loss = 72.84249, step = 9301 (0.761 sec)\n",
      "INFO:tensorflow:global_step/sec: 128.335\n",
      "INFO:tensorflow:loss = 35.349964, step = 9401 (0.778 sec)\n",
      "INFO:tensorflow:global_step/sec: 129.524\n",
      "INFO:tensorflow:loss = 46.42914, step = 9501 (0.777 sec)\n",
      "INFO:tensorflow:global_step/sec: 134.846\n",
      "INFO:tensorflow:loss = 89.849335, step = 9601 (0.737 sec)\n",
      "INFO:tensorflow:global_step/sec: 137.208\n",
      "INFO:tensorflow:loss = 49.46589, step = 9701 (0.727 sec)\n",
      "INFO:tensorflow:global_step/sec: 148.653\n",
      "INFO:tensorflow:loss = 32.851723, step = 9801 (0.672 sec)\n",
      "INFO:tensorflow:global_step/sec: 136.318\n",
      "INFO:tensorflow:loss = 178.20624, step = 9901 (0.739 sec)\n",
      "INFO:tensorflow:Saving checkpoints for 10000 into /tmp/tmpjffiy53o/model.ckpt.\n",
      "INFO:tensorflow:Loss for final step: 32.3033.\n"
     ]
    },
    {
     "data": {
      "text/plain": [
       "<tensorflow.python.estimator.canned.linear.LinearClassifier at 0x7f0001e0bb70>"
      ]
     },
     "execution_count": 18,
     "metadata": {},
     "output_type": "execute_result"
    }
   ],
   "source": [
    "model.train(input_func,steps=10000)"
   ]
  },
  {
   "cell_type": "code",
   "execution_count": 19,
   "metadata": {},
   "outputs": [],
   "source": [
    "pred_fun = tf.estimator.inputs.pandas_input_fn(x=X_test,batch_size=10, num_epochs=1, shuffle=False)"
   ]
  },
  {
   "cell_type": "code",
   "execution_count": 30,
   "metadata": {},
   "outputs": [
    {
     "name": "stdout",
     "output_type": "stream",
     "text": [
      "INFO:tensorflow:Calling model_fn.\n",
      "INFO:tensorflow:Done calling model_fn.\n",
      "INFO:tensorflow:Graph was finalized.\n",
      "INFO:tensorflow:Restoring parameters from /tmp/tmpjffiy53o/model.ckpt-10000\n",
      "INFO:tensorflow:Running local_init_op.\n",
      "INFO:tensorflow:Done running local_init_op.\n"
     ]
    }
   ],
   "source": [
    "model_pred = list(model.predict(pred_fun))"
   ]
  },
  {
   "cell_type": "code",
   "execution_count": 31,
   "metadata": {},
   "outputs": [],
   "source": [
    "final_pred_values = [pred['class_ids'][0] for pred in list(model_pred)]"
   ]
  },
  {
   "cell_type": "code",
   "execution_count": 100,
   "metadata": {},
   "outputs": [
    {
     "name": "stdout",
     "output_type": "stream",
     "text": [
      "             precision    recall  f1-score   support\n",
      "\n",
      "          0       0.87      0.95      0.91      4919\n",
      "          1       0.78      0.55      0.64      1594\n",
      "\n",
      "avg / total       0.84      0.85      0.84      6513\n",
      "\n"
     ]
    }
   ],
   "source": [
    "from sklearn.metrics import classification_report,mean_squared_error\n",
    "print(classification_report(y_test,final_pred_values))"
   ]
  },
  {
   "cell_type": "code",
   "execution_count": 101,
   "metadata": {},
   "outputs": [
    {
     "name": "stdout",
     "output_type": "stream",
     "text": [
      "0.1487793643482266\n"
     ]
    }
   ],
   "source": [
    "print(mean_squared_error(y_test,final_pred_values))"
   ]
  },
  {
   "cell_type": "markdown",
   "metadata": {},
   "source": [
    "# Deep Neural Network Classification"
   ]
  },
  {
   "cell_type": "code",
   "execution_count": 60,
   "metadata": {},
   "outputs": [],
   "source": [
    "feat_cols = [gender,occupation,marital_status,relationship,education,workclass,native_country,\n",
    "            age,education_num,capital_gain,capital_loss,hours_per_week]"
   ]
  },
  {
   "cell_type": "code",
   "execution_count": 71,
   "metadata": {},
   "outputs": [],
   "source": [
    "gender_dnn = tf.feature_column.embedding_column(gender,dimension=1)\n",
    "occupation_dnn = tf.feature_column.embedding_column(occupation,dimension=1)\n",
    "marital_status_dnn = tf.feature_column.embedding_column(marital_status,dimension=1)\n",
    "relationship_dnn = tf.feature_column.embedding_column(relationship,dimension=1)\n",
    "education_dnn = tf.feature_column.embedding_column(education,dimension=1)\n",
    "workclass_dnn = tf.feature_column.embedding_column(workclass,dimension=1)\n",
    "native_country_dnn = tf.feature_column.embedding_column(native_country,dimension=1)"
   ]
  },
  {
   "cell_type": "code",
   "execution_count": 81,
   "metadata": {},
   "outputs": [
    {
     "name": "stdout",
     "output_type": "stream",
     "text": [
      "Min Age: 17 \n",
      "Max Age: 90\n"
     ]
    },
    {
     "data": {
      "image/png": "[encoded data removed]",
      "text/plain": [
       "<Figure size 432x288 with 1 Axes>"
      ]
     },
     "metadata": {},
     "output_type": "display_data"
    }
   ],
   "source": [
    "sns.barplot(x=census['age'],y=census['education'])\n",
    "print(\"Min Age:\",census['age'].min(),'\\n'\"Max Age:\",census['age'].max())"
   ]
  },
  {
   "cell_type": "code",
   "execution_count": 113,
   "metadata": {},
   "outputs": [],
   "source": [
    "age_bucket = tf.feature_column.bucketized_column(age,boundaries=[10,20,30,40,50,60,70,80,90])"
   ]
  },
  {
   "cell_type": "code",
   "execution_count": 114,
   "metadata": {},
   "outputs": [
    {
     "data": {
      "text/html": [
       "<div>\n",
       "<style scoped>\n",
       "    .dataframe tbody tr th:only-of-type {\n",
       "        vertical-align: middle;\n",
       "    }\n",
       "\n",
       "    .dataframe tbody tr th {\n",
       "        vertical-align: top;\n",
       "    }\n",
       "\n",
       "    .dataframe thead th {\n",
       "        text-align: right;\n",
       "    }\n",
       "</style>\n",
       "<table border=\"1\" class=\"dataframe\">\n",
       "  <thead>\n",
       "    <tr style=\"text-align: right;\">\n",
       "      <th></th>\n",
       "      <th>age</th>\n",
       "      <th>workclass</th>\n",
       "      <th>education</th>\n",
       "      <th>education_num</th>\n",
       "      <th>marital_status</th>\n",
       "      <th>occupation</th>\n",
       "      <th>relationship</th>\n",
       "      <th>race</th>\n",
       "      <th>gender</th>\n",
       "      <th>capital_gain</th>\n",
       "      <th>capital_loss</th>\n",
       "      <th>hours_per_week</th>\n",
       "      <th>native_country</th>\n",
       "      <th>income_bracket</th>\n",
       "    </tr>\n",
       "  </thead>\n",
       "  <tbody>\n",
       "    <tr>\n",
       "      <th>0</th>\n",
       "      <td>39</td>\n",
       "      <td>State-gov</td>\n",
       "      <td>Bachelors</td>\n",
       "      <td>13</td>\n",
       "      <td>Never-married</td>\n",
       "      <td>Adm-clerical</td>\n",
       "      <td>Not-in-family</td>\n",
       "      <td>White</td>\n",
       "      <td>Male</td>\n",
       "      <td>2174</td>\n",
       "      <td>0</td>\n",
       "      <td>40</td>\n",
       "      <td>United-States</td>\n",
       "      <td>0</td>\n",
       "    </tr>\n",
       "    <tr>\n",
       "      <th>1</th>\n",
       "      <td>50</td>\n",
       "      <td>Self-emp-not-inc</td>\n",
       "      <td>Bachelors</td>\n",
       "      <td>13</td>\n",
       "      <td>Married-civ-spouse</td>\n",
       "      <td>Exec-managerial</td>\n",
       "      <td>Husband</td>\n",
       "      <td>White</td>\n",
       "      <td>Male</td>\n",
       "      <td>0</td>\n",
       "      <td>0</td>\n",
       "      <td>13</td>\n",
       "      <td>United-States</td>\n",
       "      <td>0</td>\n",
       "    </tr>\n",
       "    <tr>\n",
       "      <th>2</th>\n",
       "      <td>38</td>\n",
       "      <td>Private</td>\n",
       "      <td>HS-grad</td>\n",
       "      <td>9</td>\n",
       "      <td>Divorced</td>\n",
       "      <td>Handlers-cleaners</td>\n",
       "      <td>Not-in-family</td>\n",
       "      <td>White</td>\n",
       "      <td>Male</td>\n",
       "      <td>0</td>\n",
       "      <td>0</td>\n",
       "      <td>40</td>\n",
       "      <td>United-States</td>\n",
       "      <td>0</td>\n",
       "    </tr>\n",
       "    <tr>\n",
       "      <th>3</th>\n",
       "      <td>53</td>\n",
       "      <td>Private</td>\n",
       "      <td>11th</td>\n",
       "      <td>7</td>\n",
       "      <td>Married-civ-spouse</td>\n",
       "      <td>Handlers-cleaners</td>\n",
       "      <td>Husband</td>\n",
       "      <td>Black</td>\n",
       "      <td>Male</td>\n",
       "      <td>0</td>\n",
       "      <td>0</td>\n",
       "      <td>40</td>\n",
       "      <td>United-States</td>\n",
       "      <td>0</td>\n",
       "    </tr>\n",
       "    <tr>\n",
       "      <th>4</th>\n",
       "      <td>28</td>\n",
       "      <td>Private</td>\n",
       "      <td>Bachelors</td>\n",
       "      <td>13</td>\n",
       "      <td>Married-civ-spouse</td>\n",
       "      <td>Prof-specialty</td>\n",
       "      <td>Wife</td>\n",
       "      <td>Black</td>\n",
       "      <td>Female</td>\n",
       "      <td>0</td>\n",
       "      <td>0</td>\n",
       "      <td>40</td>\n",
       "      <td>Cuba</td>\n",
       "      <td>0</td>\n",
       "    </tr>\n",
       "  </tbody>\n",
       "</table>\n",
       "</div>"
      ],
      "text/plain": [
       "   age          workclass   education  education_num       marital_status  \\\n",
       "0   39          State-gov   Bachelors             13        Never-married   \n",
       "1   50   Self-emp-not-inc   Bachelors             13   Married-civ-spouse   \n",
       "2   38            Private     HS-grad              9             Divorced   \n",
       "3   53            Private        11th              7   Married-civ-spouse   \n",
       "4   28            Private   Bachelors             13   Married-civ-spouse   \n",
       "\n",
       "           occupation    relationship    race   gender  capital_gain  \\\n",
       "0        Adm-clerical   Not-in-family   White     Male          2174   \n",
       "1     Exec-managerial         Husband   White     Male             0   \n",
       "2   Handlers-cleaners   Not-in-family   White     Male             0   \n",
       "3   Handlers-cleaners         Husband   Black     Male             0   \n",
       "4      Prof-specialty            Wife   Black   Female             0   \n",
       "\n",
       "   capital_loss  hours_per_week  native_country  income_bracket  \n",
       "0             0              40   United-States               0  \n",
       "1             0              13   United-States               0  \n",
       "2             0              40   United-States               0  \n",
       "3             0              40   United-States               0  \n",
       "4             0              40            Cuba               0  "
      ]
     },
     "execution_count": 114,
     "metadata": {},
     "output_type": "execute_result"
    }
   ],
   "source": [
    "census.head()"
   ]
  },
  {
   "cell_type": "code",
   "execution_count": 115,
   "metadata": {},
   "outputs": [],
   "source": [
    "dnn_fec_cols = [occupation_dnn,marital_status_dnn,relationship_dnn,education_dnn,workclass_dnn,native_country_dnn,age,education_num,hours_per_week]"
   ]
  },
  {
   "cell_type": "code",
   "execution_count": 116,
   "metadata": {},
   "outputs": [
    {
     "name": "stdout",
     "output_type": "stream",
     "text": [
      "INFO:tensorflow:Using default config.\n",
      "WARNING:tensorflow:Using temporary folder as model directory: /tmp/tmp8haibyo7\n",
      "INFO:tensorflow:Using config: {'_model_dir': '/tmp/tmp8haibyo7', '_tf_random_seed': None, '_save_summary_steps': 100, '_save_checkpoints_steps': None, '_save_checkpoints_secs': 600, '_session_config': None, '_keep_checkpoint_max': 5, '_keep_checkpoint_every_n_hours': 10000, '_log_step_count_steps': 100, '_train_distribute': None, '_service': None, '_cluster_spec': <tensorflow.python.training.server_lib.ClusterSpec object at 0x7effff63a438>, '_task_type': 'worker', '_task_id': 0, '_global_id_in_cluster': 0, '_master': '', '_evaluation_master': '', '_is_chief': True, '_num_ps_replicas': 0, '_num_worker_replicas': 1}\n"
     ]
    }
   ],
   "source": [
    "dnn_model = tf.estimator.DNNClassifier(hidden_units=[30,30,30,30,30],feature_columns=dnn_fec_cols,n_classes=2)"
   ]
  },
  {
   "cell_type": "code",
   "execution_count": 117,
   "metadata": {},
   "outputs": [],
   "source": [
    "input_func_dnn = tf.estimator.inputs.pandas_input_fn(x=X_train, y=y_train, batch_size=10, num_epochs=10000, shuffle=True)"
   ]
  },
  {
   "cell_type": "code",
   "execution_count": 118,
   "metadata": {},
   "outputs": [
    {
     "name": "stdout",
     "output_type": "stream",
     "text": [
      "INFO:tensorflow:Calling model_fn.\n",
      "INFO:tensorflow:Done calling model_fn.\n",
      "INFO:tensorflow:Create CheckpointSaverHook.\n",
      "INFO:tensorflow:Graph was finalized.\n",
      "INFO:tensorflow:Running local_init_op.\n",
      "INFO:tensorflow:Done running local_init_op.\n",
      "INFO:tensorflow:Saving checkpoints for 1 into /tmp/tmp8haibyo7/model.ckpt.\n",
      "INFO:tensorflow:loss = 4.963179, step = 1\n",
      "INFO:tensorflow:global_step/sec: 163.498\n",
      "INFO:tensorflow:loss = 8.183307, step = 101 (0.616 sec)\n",
      "INFO:tensorflow:global_step/sec: 242.944\n",
      "INFO:tensorflow:loss = 5.410246, step = 201 (0.415 sec)\n",
      "INFO:tensorflow:global_step/sec: 234.441\n",
      "INFO:tensorflow:loss = 3.177857, step = 301 (0.424 sec)\n",
      "INFO:tensorflow:global_step/sec: 246.5\n",
      "INFO:tensorflow:loss = 4.0992765, step = 401 (0.415 sec)\n",
      "INFO:tensorflow:global_step/sec: 248.281\n",
      "INFO:tensorflow:loss = 4.001817, step = 501 (0.390 sec)\n",
      "INFO:tensorflow:global_step/sec: 245.611\n",
      "INFO:tensorflow:loss = 3.2410233, step = 601 (0.408 sec)\n",
      "INFO:tensorflow:global_step/sec: 231.405\n",
      "INFO:tensorflow:loss = 4.5074787, step = 701 (0.433 sec)\n",
      "INFO:tensorflow:global_step/sec: 301.517\n",
      "INFO:tensorflow:loss = 6.168967, step = 801 (0.330 sec)\n",
      "INFO:tensorflow:global_step/sec: 253.134\n",
      "INFO:tensorflow:loss = 5.391339, step = 901 (0.397 sec)\n",
      "INFO:tensorflow:global_step/sec: 242.387\n",
      "INFO:tensorflow:loss = 4.0522757, step = 1001 (0.414 sec)\n",
      "INFO:tensorflow:global_step/sec: 256.275\n",
      "INFO:tensorflow:loss = 3.5840065, step = 1101 (0.391 sec)\n",
      "INFO:tensorflow:global_step/sec: 244.687\n",
      "INFO:tensorflow:loss = 2.0093074, step = 1201 (0.407 sec)\n",
      "INFO:tensorflow:global_step/sec: 251.408\n",
      "INFO:tensorflow:loss = 2.6658106, step = 1301 (0.397 sec)\n",
      "INFO:tensorflow:global_step/sec: 253.522\n",
      "INFO:tensorflow:loss = 4.3639116, step = 1401 (0.394 sec)\n",
      "INFO:tensorflow:global_step/sec: 250.208\n",
      "INFO:tensorflow:loss = 2.8349237, step = 1501 (0.400 sec)\n",
      "INFO:tensorflow:global_step/sec: 239.447\n",
      "INFO:tensorflow:loss = 4.0125904, step = 1601 (0.419 sec)\n",
      "INFO:tensorflow:global_step/sec: 250.274\n",
      "INFO:tensorflow:loss = 6.300876, step = 1701 (0.396 sec)\n",
      "INFO:tensorflow:global_step/sec: 254.112\n",
      "INFO:tensorflow:loss = 2.432434, step = 1801 (0.396 sec)\n",
      "INFO:tensorflow:global_step/sec: 255.271\n",
      "INFO:tensorflow:loss = 2.2099912, step = 1901 (0.390 sec)\n",
      "INFO:tensorflow:global_step/sec: 249.288\n",
      "INFO:tensorflow:loss = 4.416665, step = 2001 (0.403 sec)\n",
      "INFO:tensorflow:global_step/sec: 245.575\n",
      "INFO:tensorflow:loss = 4.29425, step = 2101 (0.412 sec)\n",
      "INFO:tensorflow:global_step/sec: 248.796\n",
      "INFO:tensorflow:loss = 0.7901335, step = 2201 (0.393 sec)\n",
      "INFO:tensorflow:global_step/sec: 249.504\n",
      "INFO:tensorflow:loss = 5.796008, step = 2301 (0.404 sec)\n",
      "INFO:tensorflow:global_step/sec: 253.712\n",
      "INFO:tensorflow:loss = 5.425347, step = 2401 (0.393 sec)\n",
      "INFO:tensorflow:global_step/sec: 246.336\n",
      "INFO:tensorflow:loss = 2.023096, step = 2501 (0.406 sec)\n",
      "INFO:tensorflow:global_step/sec: 246.896\n",
      "INFO:tensorflow:loss = 2.848116, step = 2601 (0.404 sec)\n",
      "INFO:tensorflow:global_step/sec: 249.389\n",
      "INFO:tensorflow:loss = 5.3142347, step = 2701 (0.401 sec)\n",
      "INFO:tensorflow:global_step/sec: 244.736\n",
      "INFO:tensorflow:loss = 3.7655196, step = 2801 (0.409 sec)\n",
      "INFO:tensorflow:global_step/sec: 251.935\n",
      "INFO:tensorflow:loss = 1.460887, step = 2901 (0.397 sec)\n",
      "INFO:tensorflow:global_step/sec: 248.175\n",
      "INFO:tensorflow:loss = 4.390285, step = 3001 (0.403 sec)\n",
      "INFO:tensorflow:global_step/sec: 244.757\n",
      "INFO:tensorflow:loss = 1.6112878, step = 3101 (0.405 sec)\n",
      "INFO:tensorflow:global_step/sec: 255.357\n",
      "INFO:tensorflow:loss = 3.1950502, step = 3201 (0.395 sec)\n",
      "INFO:tensorflow:global_step/sec: 248.36\n",
      "INFO:tensorflow:loss = 3.3556552, step = 3301 (0.405 sec)\n",
      "INFO:tensorflow:global_step/sec: 243.557\n",
      "INFO:tensorflow:loss = 4.5552034, step = 3401 (0.408 sec)\n",
      "INFO:tensorflow:global_step/sec: 250.956\n",
      "INFO:tensorflow:loss = 3.1145482, step = 3501 (0.400 sec)\n",
      "INFO:tensorflow:global_step/sec: 260.073\n",
      "INFO:tensorflow:loss = 3.1383917, step = 3601 (0.386 sec)\n",
      "INFO:tensorflow:global_step/sec: 280.272\n",
      "INFO:tensorflow:loss = 1.6033152, step = 3701 (0.355 sec)\n",
      "INFO:tensorflow:global_step/sec: 245.001\n",
      "INFO:tensorflow:loss = 5.2665944, step = 3801 (0.408 sec)\n",
      "INFO:tensorflow:global_step/sec: 249.196\n",
      "INFO:tensorflow:loss = 5.0076447, step = 3901 (0.402 sec)\n",
      "INFO:tensorflow:global_step/sec: 250.509\n",
      "INFO:tensorflow:loss = 2.0571916, step = 4001 (0.399 sec)\n",
      "INFO:tensorflow:global_step/sec: 256.167\n",
      "INFO:tensorflow:loss = 2.4776998, step = 4101 (0.387 sec)\n",
      "INFO:tensorflow:global_step/sec: 258.062\n",
      "INFO:tensorflow:loss = 2.5354393, step = 4201 (0.388 sec)\n",
      "INFO:tensorflow:global_step/sec: 256.767\n",
      "INFO:tensorflow:loss = 2.7645907, step = 4301 (0.392 sec)\n",
      "INFO:tensorflow:global_step/sec: 247.197\n",
      "INFO:tensorflow:loss = 2.498762, step = 4401 (0.406 sec)\n",
      "INFO:tensorflow:global_step/sec: 252.499\n",
      "INFO:tensorflow:loss = 4.7118115, step = 4501 (0.395 sec)\n",
      "INFO:tensorflow:global_step/sec: 250.735\n",
      "INFO:tensorflow:loss = 2.2127132, step = 4601 (0.399 sec)\n",
      "INFO:tensorflow:global_step/sec: 250.608\n",
      "INFO:tensorflow:loss = 4.316754, step = 4701 (0.401 sec)\n",
      "INFO:tensorflow:global_step/sec: 251.944\n",
      "INFO:tensorflow:loss = 4.2130356, step = 4801 (0.395 sec)\n",
      "INFO:tensorflow:global_step/sec: 255.188\n",
      "INFO:tensorflow:loss = 2.9951134, step = 4901 (0.392 sec)\n",
      "INFO:tensorflow:global_step/sec: 249.111\n",
      "INFO:tensorflow:loss = 2.9558768, step = 5001 (0.403 sec)\n",
      "INFO:tensorflow:global_step/sec: 256.981\n",
      "INFO:tensorflow:loss = 4.6655827, step = 5101 (0.390 sec)\n",
      "INFO:tensorflow:global_step/sec: 240.633\n",
      "INFO:tensorflow:loss = 3.1470852, step = 5201 (0.412 sec)\n",
      "INFO:tensorflow:global_step/sec: 258.04\n",
      "INFO:tensorflow:loss = 5.206649, step = 5301 (0.388 sec)\n",
      "INFO:tensorflow:global_step/sec: 255.338\n",
      "INFO:tensorflow:loss = 3.197935, step = 5401 (0.392 sec)\n",
      "INFO:tensorflow:global_step/sec: 255.812\n",
      "INFO:tensorflow:loss = 5.654483, step = 5501 (0.391 sec)\n",
      "INFO:tensorflow:global_step/sec: 256.999\n",
      "INFO:tensorflow:loss = 2.9498336, step = 5601 (0.387 sec)\n",
      "INFO:tensorflow:global_step/sec: 253.413\n",
      "INFO:tensorflow:loss = 4.407587, step = 5701 (0.394 sec)\n",
      "INFO:tensorflow:global_step/sec: 254.205\n",
      "INFO:tensorflow:loss = 2.5065994, step = 5801 (0.397 sec)\n",
      "INFO:tensorflow:global_step/sec: 250.288\n",
      "INFO:tensorflow:loss = 7.6424828, step = 5901 (0.396 sec)\n",
      "INFO:tensorflow:global_step/sec: 251.203\n",
      "INFO:tensorflow:loss = 2.730826, step = 6001 (0.400 sec)\n",
      "INFO:tensorflow:global_step/sec: 256.322\n",
      "INFO:tensorflow:loss = 3.987168, step = 6101 (0.390 sec)\n",
      "INFO:tensorflow:global_step/sec: 258.166\n",
      "INFO:tensorflow:loss = 2.2782543, step = 6201 (0.387 sec)\n",
      "INFO:tensorflow:global_step/sec: 257.136\n",
      "INFO:tensorflow:loss = 5.5097632, step = 6301 (0.387 sec)\n",
      "INFO:tensorflow:global_step/sec: 260.197\n",
      "INFO:tensorflow:loss = 2.3911407, step = 6401 (0.384 sec)\n",
      "INFO:tensorflow:global_step/sec: 253.336\n",
      "INFO:tensorflow:loss = 3.0592408, step = 6501 (0.398 sec)\n",
      "INFO:tensorflow:global_step/sec: 254.007\n",
      "INFO:tensorflow:loss = 3.3415174, step = 6601 (0.393 sec)\n",
      "INFO:tensorflow:global_step/sec: 261.56\n",
      "INFO:tensorflow:loss = 3.80118, step = 6701 (0.383 sec)\n",
      "INFO:tensorflow:global_step/sec: 259.603\n",
      "INFO:tensorflow:loss = 6.202915, step = 6801 (0.385 sec)\n",
      "INFO:tensorflow:global_step/sec: 253.792\n",
      "INFO:tensorflow:loss = 0.88184863, step = 6901 (0.392 sec)\n",
      "INFO:tensorflow:global_step/sec: 259.447\n",
      "INFO:tensorflow:loss = 2.7965367, step = 7001 (0.388 sec)\n",
      "INFO:tensorflow:global_step/sec: 247.413\n",
      "INFO:tensorflow:loss = 2.1404593, step = 7101 (0.404 sec)\n",
      "INFO:tensorflow:global_step/sec: 256.149\n",
      "INFO:tensorflow:loss = 1.3380349, step = 7201 (0.390 sec)\n",
      "INFO:tensorflow:global_step/sec: 250.956\n",
      "INFO:tensorflow:loss = 4.0160646, step = 7301 (0.399 sec)\n",
      "INFO:tensorflow:global_step/sec: 247.967\n",
      "INFO:tensorflow:loss = 2.1513479, step = 7401 (0.401 sec)\n",
      "INFO:tensorflow:global_step/sec: 259.663\n",
      "INFO:tensorflow:loss = 2.8891351, step = 7501 (0.390 sec)\n",
      "INFO:tensorflow:global_step/sec: 253.253\n",
      "INFO:tensorflow:loss = 5.0762386, step = 7601 (0.394 sec)\n",
      "INFO:tensorflow:global_step/sec: 252.436\n",
      "INFO:tensorflow:loss = 6.015408, step = 7701 (0.395 sec)\n",
      "INFO:tensorflow:global_step/sec: 254.333\n",
      "INFO:tensorflow:loss = 3.194659, step = 7801 (0.392 sec)\n",
      "INFO:tensorflow:global_step/sec: 251.679\n",
      "INFO:tensorflow:loss = 2.5061786, step = 7901 (0.400 sec)\n",
      "INFO:tensorflow:global_step/sec: 248.72\n",
      "INFO:tensorflow:loss = 4.728904, step = 8001 (0.401 sec)\n"
     ]
    },
    {
     "name": "stdout",
     "output_type": "stream",
     "text": [
      "INFO:tensorflow:global_step/sec: 260.84\n",
      "INFO:tensorflow:loss = 4.3390713, step = 8101 (0.383 sec)\n",
      "INFO:tensorflow:global_step/sec: 247.818\n",
      "INFO:tensorflow:loss = 3.4157352, step = 8201 (0.403 sec)\n",
      "INFO:tensorflow:global_step/sec: 248.976\n",
      "INFO:tensorflow:loss = 3.8805146, step = 8301 (0.405 sec)\n",
      "INFO:tensorflow:global_step/sec: 246.381\n",
      "INFO:tensorflow:loss = 4.1586514, step = 8401 (0.403 sec)\n",
      "INFO:tensorflow:global_step/sec: 240.204\n",
      "INFO:tensorflow:loss = 3.3061976, step = 8501 (0.416 sec)\n",
      "INFO:tensorflow:global_step/sec: 255.52\n",
      "INFO:tensorflow:loss = 1.2432983, step = 8601 (0.391 sec)\n",
      "INFO:tensorflow:global_step/sec: 247.841\n",
      "INFO:tensorflow:loss = 3.0416799, step = 8701 (0.404 sec)\n",
      "INFO:tensorflow:global_step/sec: 247.284\n",
      "INFO:tensorflow:loss = 4.426212, step = 8801 (0.404 sec)\n",
      "INFO:tensorflow:global_step/sec: 247.979\n",
      "INFO:tensorflow:loss = 3.2222285, step = 8901 (0.404 sec)\n",
      "INFO:tensorflow:global_step/sec: 248.476\n",
      "INFO:tensorflow:loss = 7.32094, step = 9001 (0.403 sec)\n",
      "INFO:tensorflow:global_step/sec: 248.38\n",
      "INFO:tensorflow:loss = 2.1191268, step = 9101 (0.402 sec)\n",
      "INFO:tensorflow:global_step/sec: 254.046\n",
      "INFO:tensorflow:loss = 4.293157, step = 9201 (0.395 sec)\n",
      "INFO:tensorflow:global_step/sec: 249.905\n",
      "INFO:tensorflow:loss = 2.1113348, step = 9301 (0.399 sec)\n",
      "INFO:tensorflow:global_step/sec: 232.717\n",
      "INFO:tensorflow:loss = 4.2101116, step = 9401 (0.429 sec)\n",
      "INFO:tensorflow:global_step/sec: 246.634\n",
      "INFO:tensorflow:loss = 5.176427, step = 9501 (0.403 sec)\n",
      "INFO:tensorflow:global_step/sec: 252.211\n",
      "INFO:tensorflow:loss = 2.107464, step = 9601 (0.400 sec)\n",
      "INFO:tensorflow:global_step/sec: 244.343\n",
      "INFO:tensorflow:loss = 1.4983199, step = 9701 (0.411 sec)\n",
      "INFO:tensorflow:global_step/sec: 245.747\n",
      "INFO:tensorflow:loss = 7.715929, step = 9801 (0.407 sec)\n",
      "INFO:tensorflow:global_step/sec: 242.176\n",
      "INFO:tensorflow:loss = 6.5714536, step = 9901 (0.411 sec)\n",
      "INFO:tensorflow:Saving checkpoints for 10000 into /tmp/tmp8haibyo7/model.ckpt.\n",
      "INFO:tensorflow:Loss for final step: 3.317253.\n"
     ]
    },
    {
     "data": {
      "text/plain": [
       "<tensorflow.python.estimator.canned.dnn.DNNClassifier at 0x7effff6256d8>"
      ]
     },
     "execution_count": 118,
     "metadata": {},
     "output_type": "execute_result"
    }
   ],
   "source": [
    "dnn_model.train(input_fn=input_func_dnn,steps=10000)"
   ]
  },
  {
   "cell_type": "code",
   "execution_count": 119,
   "metadata": {},
   "outputs": [],
   "source": [
    "pred_func = tf.estimator.inputs.pandas_input_fn(x=X_test,batch_size=10, num_epochs=1, shuffle=False)"
   ]
  },
  {
   "cell_type": "code",
   "execution_count": 120,
   "metadata": {},
   "outputs": [
    {
     "name": "stdout",
     "output_type": "stream",
     "text": [
      "INFO:tensorflow:Calling model_fn.\n",
      "INFO:tensorflow:Done calling model_fn.\n",
      "INFO:tensorflow:Graph was finalized.\n",
      "INFO:tensorflow:Restoring parameters from /tmp/tmp8haibyo7/model.ckpt-10000\n",
      "INFO:tensorflow:Running local_init_op.\n",
      "INFO:tensorflow:Done running local_init_op.\n"
     ]
    }
   ],
   "source": [
    "prediction_dnn = list(dnn_model.predict(pred_func))"
   ]
  },
  {
   "cell_type": "code",
   "execution_count": 121,
   "metadata": {},
   "outputs": [],
   "source": [
    "dnn_final_pred = [preds['class_ids'][0] for preds in prediction_dnn]"
   ]
  },
  {
   "cell_type": "code",
   "execution_count": 122,
   "metadata": {},
   "outputs": [
    {
     "name": "stdout",
     "output_type": "stream",
     "text": [
      "             precision    recall  f1-score   support\n",
      "\n",
      "          0       0.85      0.94      0.89      4919\n",
      "          1       0.73      0.50      0.59      1594\n",
      "\n",
      "avg / total       0.82      0.83      0.82      6513\n",
      "\n"
     ]
    }
   ],
   "source": [
    "print(classification_report(y_test,dnn_final_pred))"
   ]
  },
  {
   "cell_type": "code",
   "execution_count": 123,
   "metadata": {},
   "outputs": [
    {
     "name": "stdout",
     "output_type": "stream",
     "text": [
      "0.1487793643482266\n"
     ]
    }
   ],
   "source": [
    "print(mean_squared_error(y_test,final_pred_values))"
   ]
  },
  {
   "cell_type": "code",
   "execution_count": null,
   "metadata": {},
   "outputs": [],
   "source": []
  }
 ],
 "metadata": {
  "kernelspec": {
   "display_name": "Python 3",
   "language": "python",
   "name": "python3"
  },
  "language_info": {
   "codemirror_mode": {
    "name": "ipython",
    "version": 3
   },
   "file_extension": ".py",
   "mimetype": "text/x-python",
   "name": "python",
   "nbconvert_exporter": "python",
   "pygments_lexer": "ipython3",
   "version": "3.6.5"
  }
 },
 "nbformat": 4,
 "nbformat_minor": 2
}
